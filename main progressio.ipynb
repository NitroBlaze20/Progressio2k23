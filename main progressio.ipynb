{
 "cells": [
  {
   "cell_type": "code",
   "execution_count": 1,
   "id": "e28b68c0",
   "metadata": {},
   "outputs": [
    {
     "name": "stdout",
     "output_type": "stream",
     "text": [
      "Requirement already satisfied: seaborn in /Library/Frameworks/Python.framework/Versions/3.10/lib/python3.10/site-packages (0.13.0)\n",
      "Requirement already satisfied: matplotlib!=3.6.1,>=3.3 in /Library/Frameworks/Python.framework/Versions/3.10/lib/python3.10/site-packages (from seaborn) (3.8.0)\n",
      "Requirement already satisfied: pandas>=1.2 in /Library/Frameworks/Python.framework/Versions/3.10/lib/python3.10/site-packages (from seaborn) (1.4.1)\n",
      "Requirement already satisfied: numpy!=1.24.0,>=1.20 in /Library/Frameworks/Python.framework/Versions/3.10/lib/python3.10/site-packages (from seaborn) (1.22.3)\n",
      "Requirement already satisfied: packaging>=20.0 in /Library/Frameworks/Python.framework/Versions/3.10/lib/python3.10/site-packages (from matplotlib!=3.6.1,>=3.3->seaborn) (21.3)\n",
      "Requirement already satisfied: contourpy>=1.0.1 in /Library/Frameworks/Python.framework/Versions/3.10/lib/python3.10/site-packages (from matplotlib!=3.6.1,>=3.3->seaborn) (1.1.1)\n",
      "Requirement already satisfied: fonttools>=4.22.0 in /Library/Frameworks/Python.framework/Versions/3.10/lib/python3.10/site-packages (from matplotlib!=3.6.1,>=3.3->seaborn) (4.43.0)\n",
      "Requirement already satisfied: kiwisolver>=1.0.1 in /Library/Frameworks/Python.framework/Versions/3.10/lib/python3.10/site-packages (from matplotlib!=3.6.1,>=3.3->seaborn) (1.4.5)\n",
      "Requirement already satisfied: python-dateutil>=2.7 in /Library/Frameworks/Python.framework/Versions/3.10/lib/python3.10/site-packages (from matplotlib!=3.6.1,>=3.3->seaborn) (2.8.2)\n",
      "Requirement already satisfied: pillow>=6.2.0 in /Library/Frameworks/Python.framework/Versions/3.10/lib/python3.10/site-packages (from matplotlib!=3.6.1,>=3.3->seaborn) (10.0.1)\n",
      "Requirement already satisfied: pyparsing>=2.3.1 in /Library/Frameworks/Python.framework/Versions/3.10/lib/python3.10/site-packages (from matplotlib!=3.6.1,>=3.3->seaborn) (3.0.6)\n",
      "Requirement already satisfied: cycler>=0.10 in /Library/Frameworks/Python.framework/Versions/3.10/lib/python3.10/site-packages (from matplotlib!=3.6.1,>=3.3->seaborn) (0.12.0)\n",
      "Requirement already satisfied: pytz>=2020.1 in /Library/Frameworks/Python.framework/Versions/3.10/lib/python3.10/site-packages (from pandas>=1.2->seaborn) (2022.1)\n",
      "Requirement already satisfied: six>=1.5 in /Library/Frameworks/Python.framework/Versions/3.10/lib/python3.10/site-packages (from python-dateutil>=2.7->matplotlib!=3.6.1,>=3.3->seaborn) (1.16.0)\n",
      "\u001b[33mWARNING: You are using pip version 22.0.4; however, version 23.2.1 is available.\n",
      "You should consider upgrading via the '/usr/local/bin/python3 -m pip install --upgrade pip' command.\u001b[0m\u001b[33m\n",
      "\u001b[0mNote: you may need to restart the kernel to use updated packages.\n"
     ]
    }
   ],
   "source": [
    "pip install seaborn"
   ]
  },
  {
   "cell_type": "code",
   "execution_count": 2,
   "id": "0b6ada14",
   "metadata": {},
   "outputs": [
    {
     "name": "stdout",
     "output_type": "stream",
     "text": [
      "Requirement already satisfied: scipy in /Library/Frameworks/Python.framework/Versions/3.10/lib/python3.10/site-packages (1.11.3)\n",
      "Requirement already satisfied: numpy<1.28.0,>=1.21.6 in /Library/Frameworks/Python.framework/Versions/3.10/lib/python3.10/site-packages (from scipy) (1.22.3)\n",
      "\u001b[33mWARNING: You are using pip version 22.0.4; however, version 23.2.1 is available.\n",
      "You should consider upgrading via the '/usr/local/bin/python3 -m pip install --upgrade pip' command.\u001b[0m\u001b[33m\n",
      "\u001b[0mNote: you may need to restart the kernel to use updated packages.\n"
     ]
    }
   ],
   "source": [
    "pip install scipy"
   ]
  },
  {
   "cell_type": "code",
   "execution_count": 3,
   "id": "df55c5ab",
   "metadata": {},
   "outputs": [
    {
     "name": "stdout",
     "output_type": "stream",
     "text": [
      "Requirement already satisfied: scikit-learn in /Library/Frameworks/Python.framework/Versions/3.10/lib/python3.10/site-packages (1.3.1)\n",
      "Requirement already satisfied: scipy in /Library/Frameworks/Python.framework/Versions/3.10/lib/python3.10/site-packages (1.11.3)\n",
      "Requirement already satisfied: matplotlib in /Library/Frameworks/Python.framework/Versions/3.10/lib/python3.10/site-packages (3.8.0)\n",
      "Requirement already satisfied: threadpoolctl>=2.0.0 in /Library/Frameworks/Python.framework/Versions/3.10/lib/python3.10/site-packages (from scikit-learn) (3.2.0)\n",
      "Requirement already satisfied: numpy<2.0,>=1.17.3 in /Library/Frameworks/Python.framework/Versions/3.10/lib/python3.10/site-packages (from scikit-learn) (1.22.3)\n",
      "Requirement already satisfied: joblib>=1.1.1 in /Library/Frameworks/Python.framework/Versions/3.10/lib/python3.10/site-packages (from scikit-learn) (1.3.2)\n",
      "Requirement already satisfied: cycler>=0.10 in /Library/Frameworks/Python.framework/Versions/3.10/lib/python3.10/site-packages (from matplotlib) (0.12.0)\n",
      "Requirement already satisfied: pyparsing>=2.3.1 in /Library/Frameworks/Python.framework/Versions/3.10/lib/python3.10/site-packages (from matplotlib) (3.0.6)\n",
      "Requirement already satisfied: python-dateutil>=2.7 in /Library/Frameworks/Python.framework/Versions/3.10/lib/python3.10/site-packages (from matplotlib) (2.8.2)\n",
      "Requirement already satisfied: contourpy>=1.0.1 in /Library/Frameworks/Python.framework/Versions/3.10/lib/python3.10/site-packages (from matplotlib) (1.1.1)\n",
      "Requirement already satisfied: fonttools>=4.22.0 in /Library/Frameworks/Python.framework/Versions/3.10/lib/python3.10/site-packages (from matplotlib) (4.43.0)\n",
      "Requirement already satisfied: kiwisolver>=1.0.1 in /Library/Frameworks/Python.framework/Versions/3.10/lib/python3.10/site-packages (from matplotlib) (1.4.5)\n",
      "Requirement already satisfied: packaging>=20.0 in /Library/Frameworks/Python.framework/Versions/3.10/lib/python3.10/site-packages (from matplotlib) (21.3)\n",
      "Requirement already satisfied: pillow>=6.2.0 in /Library/Frameworks/Python.framework/Versions/3.10/lib/python3.10/site-packages (from matplotlib) (10.0.1)\n",
      "Requirement already satisfied: six>=1.5 in /Library/Frameworks/Python.framework/Versions/3.10/lib/python3.10/site-packages (from python-dateutil>=2.7->matplotlib) (1.16.0)\n",
      "\u001b[33mWARNING: You are using pip version 22.0.4; however, version 23.2.1 is available.\n",
      "You should consider upgrading via the '/usr/local/bin/python3 -m pip install --upgrade pip' command.\u001b[0m\u001b[33m\n",
      "\u001b[0mNote: you may need to restart the kernel to use updated packages.\n"
     ]
    }
   ],
   "source": [
    "pip install -U scikit-learn scipy matplotlib"
   ]
  },
  {
   "cell_type": "code",
   "execution_count": 4,
   "id": "582cf2e7",
   "metadata": {},
   "outputs": [],
   "source": [
    "import pandas as pd\n",
    "import numpy as np\n",
    "import seaborn as sns\n",
    "import matplotlib.pyplot as plt\n",
    "from scipy import stats\n",
    "from sklearn.model_selection import train_test_split\n",
    "from sklearn.metrics import confusion_matrix\n",
    "from sklearn.linear_model import LogisticRegression\n",
    "from sklearn.ensemble import RandomForestClassifier\n",
    "from sklearn.tree import DecisionTreeClassifier\n",
    "from sklearn.neighbors import KNeighborsClassifier\n",
    "from sklearn.svm import SVC\n",
    "from sklearn.ensemble import GradientBoostingClassifier\n",
    "from sklearn.ensemble import ExtraTreesClassifier\n",
    "from sklearn.preprocessing import LabelEncoder\n",
    "from sklearn.preprocessing import MinMaxScaler"
   ]
  },
  {
   "cell_type": "code",
   "execution_count": 5,
   "id": "c7ffe2de",
   "metadata": {},
   "outputs": [
    {
     "data": {
      "text/html": [
       "<div>\n",
       "<style scoped>\n",
       "    .dataframe tbody tr th:only-of-type {\n",
       "        vertical-align: middle;\n",
       "    }\n",
       "\n",
       "    .dataframe tbody tr th {\n",
       "        vertical-align: top;\n",
       "    }\n",
       "\n",
       "    .dataframe thead th {\n",
       "        text-align: right;\n",
       "    }\n",
       "</style>\n",
       "<table border=\"1\" class=\"dataframe\">\n",
       "  <thead>\n",
       "    <tr style=\"text-align: right;\">\n",
       "      <th></th>\n",
       "      <th>Age</th>\n",
       "      <th>Sex</th>\n",
       "      <th>ChestPainType</th>\n",
       "      <th>RestingBP</th>\n",
       "      <th>Cholesterol</th>\n",
       "      <th>FastingBS</th>\n",
       "      <th>RestingECG</th>\n",
       "      <th>MaxHR</th>\n",
       "      <th>ExerciseAngina</th>\n",
       "      <th>ST_Slope</th>\n",
       "      <th>HeartDisease</th>\n",
       "    </tr>\n",
       "  </thead>\n",
       "  <tbody>\n",
       "    <tr>\n",
       "      <th>0</th>\n",
       "      <td>62</td>\n",
       "      <td>0</td>\n",
       "      <td>0</td>\n",
       "      <td>160</td>\n",
       "      <td>164</td>\n",
       "      <td>0</td>\n",
       "      <td>0</td>\n",
       "      <td>145</td>\n",
       "      <td>0</td>\n",
       "      <td>0</td>\n",
       "      <td>1</td>\n",
       "    </tr>\n",
       "    <tr>\n",
       "      <th>1</th>\n",
       "      <td>62</td>\n",
       "      <td>0</td>\n",
       "      <td>0</td>\n",
       "      <td>140</td>\n",
       "      <td>268</td>\n",
       "      <td>0</td>\n",
       "      <td>0</td>\n",
       "      <td>160</td>\n",
       "      <td>0</td>\n",
       "      <td>0</td>\n",
       "      <td>1</td>\n",
       "    </tr>\n",
       "    <tr>\n",
       "      <th>2</th>\n",
       "      <td>56</td>\n",
       "      <td>0</td>\n",
       "      <td>0</td>\n",
       "      <td>200</td>\n",
       "      <td>288</td>\n",
       "      <td>1</td>\n",
       "      <td>0</td>\n",
       "      <td>133</td>\n",
       "      <td>1</td>\n",
       "      <td>0</td>\n",
       "      <td>1</td>\n",
       "    </tr>\n",
       "    <tr>\n",
       "      <th>3</th>\n",
       "      <td>57</td>\n",
       "      <td>1</td>\n",
       "      <td>0</td>\n",
       "      <td>156</td>\n",
       "      <td>173</td>\n",
       "      <td>0</td>\n",
       "      <td>0</td>\n",
       "      <td>119</td>\n",
       "      <td>1</td>\n",
       "      <td>0</td>\n",
       "      <td>1</td>\n",
       "    </tr>\n",
       "    <tr>\n",
       "      <th>4</th>\n",
       "      <td>53</td>\n",
       "      <td>1</td>\n",
       "      <td>0</td>\n",
       "      <td>140</td>\n",
       "      <td>203</td>\n",
       "      <td>1</td>\n",
       "      <td>0</td>\n",
       "      <td>155</td>\n",
       "      <td>1</td>\n",
       "      <td>0</td>\n",
       "      <td>1</td>\n",
       "    </tr>\n",
       "  </tbody>\n",
       "</table>\n",
       "</div>"
      ],
      "text/plain": [
       "   Age  Sex  ChestPainType  RestingBP  Cholesterol  FastingBS  RestingECG  \\\n",
       "0   62    0              0        160          164          0           0   \n",
       "1   62    0              0        140          268          0           0   \n",
       "2   56    0              0        200          288          1           0   \n",
       "3   57    1              0        156          173          0           0   \n",
       "4   53    1              0        140          203          1           0   \n",
       "\n",
       "   MaxHR  ExerciseAngina  ST_Slope  HeartDisease  \n",
       "0    145               0         0             1  \n",
       "1    160               0         0             1  \n",
       "2    133               1         0             1  \n",
       "3    119               1         0             1  \n",
       "4    155               1         0             1  "
      ]
     },
     "execution_count": 5,
     "metadata": {},
     "output_type": "execute_result"
    }
   ],
   "source": [
    "data=pd.read_csv(\"/Users/premkumar/Downloads/heart_edited.csv\")\n",
    "data.head()"
   ]
  },
  {
   "cell_type": "code",
   "execution_count": 6,
   "id": "94194202",
   "metadata": {},
   "outputs": [
    {
     "data": {
      "text/html": [
       "<div>\n",
       "<style scoped>\n",
       "    .dataframe tbody tr th:only-of-type {\n",
       "        vertical-align: middle;\n",
       "    }\n",
       "\n",
       "    .dataframe tbody tr th {\n",
       "        vertical-align: top;\n",
       "    }\n",
       "\n",
       "    .dataframe thead th {\n",
       "        text-align: right;\n",
       "    }\n",
       "</style>\n",
       "<table border=\"1\" class=\"dataframe\">\n",
       "  <thead>\n",
       "    <tr style=\"text-align: right;\">\n",
       "      <th></th>\n",
       "      <th>Age</th>\n",
       "      <th>Sex</th>\n",
       "      <th>ChestPainType</th>\n",
       "      <th>RestingBP</th>\n",
       "      <th>Cholesterol</th>\n",
       "      <th>FastingBS</th>\n",
       "      <th>RestingECG</th>\n",
       "      <th>MaxHR</th>\n",
       "      <th>ExerciseAngina</th>\n",
       "      <th>ST_Slope</th>\n",
       "      <th>HeartDisease</th>\n",
       "    </tr>\n",
       "  </thead>\n",
       "  <tbody>\n",
       "    <tr>\n",
       "      <th>count</th>\n",
       "      <td>746.000000</td>\n",
       "      <td>746.000000</td>\n",
       "      <td>746.000000</td>\n",
       "      <td>746.000000</td>\n",
       "      <td>746.000000</td>\n",
       "      <td>746.000000</td>\n",
       "      <td>746.000000</td>\n",
       "      <td>746.000000</td>\n",
       "      <td>746.000000</td>\n",
       "      <td>746.000000</td>\n",
       "      <td>746.000000</td>\n",
       "    </tr>\n",
       "    <tr>\n",
       "      <th>mean</th>\n",
       "      <td>52.882038</td>\n",
       "      <td>0.756032</td>\n",
       "      <td>0.840483</td>\n",
       "      <td>133.022788</td>\n",
       "      <td>244.635389</td>\n",
       "      <td>0.167560</td>\n",
       "      <td>0.931635</td>\n",
       "      <td>140.226542</td>\n",
       "      <td>0.384718</td>\n",
       "      <td>1.410188</td>\n",
       "      <td>0.477212</td>\n",
       "    </tr>\n",
       "    <tr>\n",
       "      <th>std</th>\n",
       "      <td>9.505888</td>\n",
       "      <td>0.429762</td>\n",
       "      <td>0.958198</td>\n",
       "      <td>17.282750</td>\n",
       "      <td>59.153524</td>\n",
       "      <td>0.373726</td>\n",
       "      <td>0.631939</td>\n",
       "      <td>24.524107</td>\n",
       "      <td>0.486855</td>\n",
       "      <td>0.598076</td>\n",
       "      <td>0.499816</td>\n",
       "    </tr>\n",
       "    <tr>\n",
       "      <th>min</th>\n",
       "      <td>28.000000</td>\n",
       "      <td>0.000000</td>\n",
       "      <td>0.000000</td>\n",
       "      <td>92.000000</td>\n",
       "      <td>85.000000</td>\n",
       "      <td>0.000000</td>\n",
       "      <td>0.000000</td>\n",
       "      <td>69.000000</td>\n",
       "      <td>0.000000</td>\n",
       "      <td>0.000000</td>\n",
       "      <td>0.000000</td>\n",
       "    </tr>\n",
       "    <tr>\n",
       "      <th>25%</th>\n",
       "      <td>46.000000</td>\n",
       "      <td>1.000000</td>\n",
       "      <td>0.000000</td>\n",
       "      <td>120.000000</td>\n",
       "      <td>207.250000</td>\n",
       "      <td>0.000000</td>\n",
       "      <td>1.000000</td>\n",
       "      <td>122.000000</td>\n",
       "      <td>0.000000</td>\n",
       "      <td>1.000000</td>\n",
       "      <td>0.000000</td>\n",
       "    </tr>\n",
       "    <tr>\n",
       "      <th>50%</th>\n",
       "      <td>54.000000</td>\n",
       "      <td>1.000000</td>\n",
       "      <td>1.000000</td>\n",
       "      <td>130.000000</td>\n",
       "      <td>237.000000</td>\n",
       "      <td>0.000000</td>\n",
       "      <td>1.000000</td>\n",
       "      <td>140.000000</td>\n",
       "      <td>0.000000</td>\n",
       "      <td>1.000000</td>\n",
       "      <td>0.000000</td>\n",
       "    </tr>\n",
       "    <tr>\n",
       "      <th>75%</th>\n",
       "      <td>59.000000</td>\n",
       "      <td>1.000000</td>\n",
       "      <td>2.000000</td>\n",
       "      <td>140.000000</td>\n",
       "      <td>275.000000</td>\n",
       "      <td>0.000000</td>\n",
       "      <td>1.000000</td>\n",
       "      <td>160.000000</td>\n",
       "      <td>1.000000</td>\n",
       "      <td>2.000000</td>\n",
       "      <td>1.000000</td>\n",
       "    </tr>\n",
       "    <tr>\n",
       "      <th>max</th>\n",
       "      <td>77.000000</td>\n",
       "      <td>1.000000</td>\n",
       "      <td>3.000000</td>\n",
       "      <td>200.000000</td>\n",
       "      <td>603.000000</td>\n",
       "      <td>1.000000</td>\n",
       "      <td>2.000000</td>\n",
       "      <td>202.000000</td>\n",
       "      <td>1.000000</td>\n",
       "      <td>2.000000</td>\n",
       "      <td>1.000000</td>\n",
       "    </tr>\n",
       "  </tbody>\n",
       "</table>\n",
       "</div>"
      ],
      "text/plain": [
       "              Age         Sex  ChestPainType   RestingBP  Cholesterol  \\\n",
       "count  746.000000  746.000000     746.000000  746.000000   746.000000   \n",
       "mean    52.882038    0.756032       0.840483  133.022788   244.635389   \n",
       "std      9.505888    0.429762       0.958198   17.282750    59.153524   \n",
       "min     28.000000    0.000000       0.000000   92.000000    85.000000   \n",
       "25%     46.000000    1.000000       0.000000  120.000000   207.250000   \n",
       "50%     54.000000    1.000000       1.000000  130.000000   237.000000   \n",
       "75%     59.000000    1.000000       2.000000  140.000000   275.000000   \n",
       "max     77.000000    1.000000       3.000000  200.000000   603.000000   \n",
       "\n",
       "        FastingBS  RestingECG       MaxHR  ExerciseAngina    ST_Slope  \\\n",
       "count  746.000000  746.000000  746.000000      746.000000  746.000000   \n",
       "mean     0.167560    0.931635  140.226542        0.384718    1.410188   \n",
       "std      0.373726    0.631939   24.524107        0.486855    0.598076   \n",
       "min      0.000000    0.000000   69.000000        0.000000    0.000000   \n",
       "25%      0.000000    1.000000  122.000000        0.000000    1.000000   \n",
       "50%      0.000000    1.000000  140.000000        0.000000    1.000000   \n",
       "75%      0.000000    1.000000  160.000000        1.000000    2.000000   \n",
       "max      1.000000    2.000000  202.000000        1.000000    2.000000   \n",
       "\n",
       "       HeartDisease  \n",
       "count    746.000000  \n",
       "mean       0.477212  \n",
       "std        0.499816  \n",
       "min        0.000000  \n",
       "25%        0.000000  \n",
       "50%        0.000000  \n",
       "75%        1.000000  \n",
       "max        1.000000  "
      ]
     },
     "execution_count": 6,
     "metadata": {},
     "output_type": "execute_result"
    }
   ],
   "source": [
    "data.describe()"
   ]
  },
  {
   "cell_type": "code",
   "execution_count": 7,
   "id": "69bf668f",
   "metadata": {},
   "outputs": [
    {
     "name": "stdout",
     "output_type": "stream",
     "text": [
      "<class 'pandas.core.frame.DataFrame'>\n",
      "RangeIndex: 746 entries, 0 to 745\n",
      "Data columns (total 11 columns):\n",
      " #   Column          Non-Null Count  Dtype\n",
      "---  ------          --------------  -----\n",
      " 0   Age             746 non-null    int64\n",
      " 1   Sex             746 non-null    int64\n",
      " 2   ChestPainType   746 non-null    int64\n",
      " 3   RestingBP       746 non-null    int64\n",
      " 4   Cholesterol     746 non-null    int64\n",
      " 5   FastingBS       746 non-null    int64\n",
      " 6   RestingECG      746 non-null    int64\n",
      " 7   MaxHR           746 non-null    int64\n",
      " 8   ExerciseAngina  746 non-null    int64\n",
      " 9   ST_Slope        746 non-null    int64\n",
      " 10  HeartDisease    746 non-null    int64\n",
      "dtypes: int64(11)\n",
      "memory usage: 64.2 KB\n"
     ]
    }
   ],
   "source": [
    "    data.info()"
   ]
  },
  {
   "cell_type": "code",
   "execution_count": 8,
   "id": "437c9c8e",
   "metadata": {},
   "outputs": [
    {
     "data": {
      "text/plain": [
       "Text(0, 0.5, 'Age')"
      ]
     },
     "execution_count": 8,
     "metadata": {},
     "output_type": "execute_result"
    },
    {
     "data": {
      "image/png": "[encoded data removed]",
      "text/plain": [
       "<Figure size 576x432 with 1 Axes>"
      ]
     },
     "metadata": {
      "needs_background": "light"
     },
     "output_type": "display_data"
    }
   ],
   "source": [
    "#Examining the correlation between age and resting blood pressure\n",
    "plt.figure(figsize=(8,6))\n",
    "plt.scatter(data['RestingBP'],data['Age'])\n",
    "plt.xlabel(\"RestingBP\")\n",
    "plt.ylabel(\"Age\")"
   ]
  },
  {
   "cell_type": "code",
   "execution_count": 9,
   "id": "abc4255e",
   "metadata": {},
   "outputs": [
    {
     "data": {
      "text/plain": [
       "Text(0, 0.5, 'Age')"
      ]
     },
     "execution_count": 9,
     "metadata": {},
     "output_type": "execute_result"
    },
    {
     "data": {
      "image/png": "[encoded data removed]",
      "text/plain": [
       "<Figure size 576x432 with 1 Axes>"
      ]
     },
     "metadata": {
      "needs_background": "light"
     },
     "output_type": "display_data"
    }
   ],
   "source": [
    "#Examining the relationship between age and cholestrol level\n",
    "plt.figure(figsize=(8,6))\n",
    "plt.scatter(data['Cholesterol'],data['Age'])\n",
    "plt.xlabel(\"Cholesterol\")\n",
    "plt.ylabel(\"Age\")"
   ]
  },
  {
   "cell_type": "code",
   "execution_count": 10,
   "id": "77bfb39b",
   "metadata": {},
   "outputs": [
    {
     "data": {
      "text/plain": [
       "Text(0, 0.5, 'Age')"
      ]
     },
     "execution_count": 10,
     "metadata": {},
     "output_type": "execute_result"
    },
    {
     "data": {
      "image/png": "[encoded data removed]",
      "text/plain": [
       "<Figure size 576x432 with 1 Axes>"
      ]
     },
     "metadata": {
      "needs_background": "light"
     },
     "output_type": "display_data"
    }
   ],
   "source": [
    "#Examining the relationship between age and MaxHR\n",
    "plt.figure(figsize=(8,6))\n",
    "plt.scatter(data['MaxHR'],data['Age'])\n",
    "plt.xlabel(\"MaxHR\")\n",
    "plt.ylabel(\"Age\")"
   ]
  },
  {
   "cell_type": "code",
   "execution_count": 11,
   "id": "6e4337e0",
   "metadata": {},
   "outputs": [
    {
     "name": "stdout",
     "output_type": "stream",
     "text": [
      "Unique Chest Pain Types: {'0': 'ASY', '1': 'ATA', '2': 'NAP', '3': 'TA'}\n"
     ]
    },
    {
     "data": {
      "text/plain": [
       "<Figure size 864x432 with 0 Axes>"
      ]
     },
     "metadata": {},
     "output_type": "display_data"
    },
    {
     "data": {
      "image/png": "[encoded data removed]",
      "text/plain": [
       "<Figure size 432x288 with 1 Axes>"
      ]
     },
     "metadata": {
      "needs_background": "light"
     },
     "output_type": "display_data"
    }
   ],
   "source": [
    "#dividing the data points by chest pain type and defining them\n",
    "chest_pain_types = data['ChestPainType'].unique()\n",
    "chest_pain_types = {\n",
    "    \"0\": \"ASY\",\n",
    "    \"1\": \"ATA\",\n",
    "    \"2\": \"NAP\",\n",
    "    \"3\": \"TA\"\n",
    "}\n",
    "print(\"Unique Chest Pain Types:\", chest_pain_types)\n",
    "chest_pain_heart_disease_counts = data.groupby(['ChestPainType', 'HeartDisease']).size().unstack(fill_value=0)\n",
    "#plotting the graph\n",
    "plt.figure(figsize=(12, 6))\n",
    "chest_pain_heart_disease_counts.plot(kind='bar', stacked=True)\n",
    "plt.title('Heart Disease Distribution by Chest Pain Type')\n",
    "plt.xlabel('Chest Pain Type')\n",
    "plt.ylabel('Count')\n",
    "plt.legend(title='Heart Disease', labels=['No', 'Yes'])\n",
    "plt.xticks(rotation=45)\n",
    "plt.show()"
   ]
  },
  {
   "cell_type": "code",
   "execution_count": 12,
   "id": "c7630377",
   "metadata": {},
   "outputs": [
    {
     "name": "stdout",
     "output_type": "stream",
     "text": [
      "Unique RestingECG Categories: {'0': 'LVH', '1': 'Normal', '2': 'ST'}\n"
     ]
    },
    {
     "data": {
      "text/plain": [
       "<Figure size 720x432 with 0 Axes>"
      ]
     },
     "metadata": {},
     "output_type": "display_data"
    },
    {
     "data": {
      "image/png": "[encoded data removed]",
      "text/plain": [
       "<Figure size 432x288 with 1 Axes>"
      ]
     },
     "metadata": {
      "needs_background": "light"
     },
     "output_type": "display_data"
    }
   ],
   "source": [
    "#Relationship between Resting ECG and Heart Disease\n",
    "resting_ecg_categories = data['RestingECG'].unique()\n",
    "resting_ecg_categories = {\n",
    "    \"0\": \"LVH\",\n",
    "    \"1\": \"Normal\",\n",
    "    \"2\": \"ST\"\n",
    "}\n",
    "print(\"Unique RestingECG Categories:\", resting_ecg_categories)\n",
    "resting_ecg_heart_disease_counts = data.groupby(['RestingECG', 'HeartDisease']).size().unstack(fill_value=0)\n",
    "plt.figure(figsize=(10, 6))\n",
    "resting_ecg_heart_disease_counts.plot(kind='bar', stacked=True)\n",
    "plt.title('Heart Disease Distribution by Resting ECG Results')\n",
    "plt.xlabel('Resting ECG Result')\n",
    "plt.ylabel('Count')\n",
    "plt.legend(title='Heart Disease', labels=['No', 'Yes'])\n",
    "plt.xticks(rotation=0)\n",
    "plt.show()"
   ]
  },
  {
   "cell_type": "code",
   "execution_count": 13,
   "id": "6e9dcb48",
   "metadata": {},
   "outputs": [
    {
     "data": {
      "image/png": "[encoded data removed]",
      "text/plain": [
       "<Figure size 720x432 with 1 Axes>"
      ]
     },
     "metadata": {
      "needs_background": "light"
     },
     "output_type": "display_data"
    }
   ],
   "source": [
    "#dividing the max heart rate data points by presence of heart disease\n",
    "maxhr_no_heart_disease = data[data['HeartDisease'] == 0]['MaxHR']\n",
    "maxhr_heart_disease = data[data['HeartDisease'] == 1]['MaxHR']\n",
    "\n",
    "mean_maxhr_no_heart_disease = maxhr_no_heart_disease.mean()\n",
    "median_maxhr_no_heart_disease = maxhr_no_heart_disease.median()\n",
    "std_maxhr_no_heart_disease = maxhr_no_heart_disease.std()\n",
    "\n",
    "mean_maxhr_heart_disease = maxhr_heart_disease.mean()\n",
    "median_maxhr_heart_disease = maxhr_heart_disease.median()\n",
    "std_maxhr_heart_disease = maxhr_heart_disease.std()\n",
    "#plotting the graph\n",
    "plt.figure(figsize=(10, 6))\n",
    "plt.boxplot([maxhr_no_heart_disease, maxhr_heart_disease], labels=['No Heart Disease', 'Heart Disease'])\n",
    "plt.title('MaxHR vs. Heart Disease')\n",
    "plt.xlabel('Heart Disease Status')\n",
    "plt.ylabel('MaxHR')\n",
    "plt.show()"
   ]
  },
  {
   "cell_type": "code",
   "execution_count": 14,
   "id": "3bfdc16f",
   "metadata": {},
   "outputs": [
    {
     "data": {
      "image/png": "[encoded data removed]",
      "text/plain": [
       "<Figure size 720x432 with 1 Axes>"
      ]
     },
     "metadata": {
      "needs_background": "light"
     },
     "output_type": "display_data"
    }
   ],
   "source": [
    "#segregating the cholesterol data points into individuals with and without heart disease\n",
    "cholesterol_no_heart_disease = data[data['HeartDisease'] == 0]['Cholesterol']\n",
    "cholesterol_heart_disease = data[data['HeartDisease'] == 1]['Cholesterol']\n",
    "#characteristics of the cholesterol data points without heart disease\n",
    "mean_cholesterol_no_heart_disease = cholesterol_no_heart_disease.mean()\n",
    "median_cholesterol_no_heart_disease = cholesterol_no_heart_disease.median()\n",
    "std_cholesterol_no_heart_disease = cholesterol_no_heart_disease.std()\n",
    "#characteristics of the cholesterol data points with heart disease\n",
    "mean_cholesterol_heart_disease = cholesterol_heart_disease.mean()\n",
    "median_cholesterol_heart_disease = cholesterol_heart_disease.median()\n",
    "std_cholesterol_heart_disease = cholesterol_heart_disease.std()\n",
    "plt.figure(figsize=(10, 6))\n",
    "plt.boxplot([cholesterol_no_heart_disease, cholesterol_heart_disease], labels=['No Heart Disease', 'Heart Disease'])\n",
    "plt.title('Cholesterol vs. Heart Disease')\n",
    "plt.xlabel('Heart Disease Status')\n",
    "plt.ylabel('Cholesterol level')\n",
    "plt.show()"
   ]
  },
  {
   "cell_type": "code",
   "execution_count": 15,
   "id": "425ca07b",
   "metadata": {},
   "outputs": [
    {
     "data": {
      "image/png": "[encoded data removed]",
      "text/plain": [
       "<Figure size 576x432 with 1 Axes>"
      ]
     },
     "metadata": {
      "needs_background": "light"
     },
     "output_type": "display_data"
    }
   ],
   "source": [
    "#segregating the age data points into individuals with and without heart disease\n",
    "age_no_heart_disease = data[data['HeartDisease'] == 0]['Age']\n",
    "age_heart_disease = data[data['HeartDisease'] == 1]['Age']\n",
    "#plotting the chart\n",
    "plt.figure(figsize=(8, 6))\n",
    "plt.boxplot([age_no_heart_disease, age_heart_disease], labels=['No Heart Disease', 'Heart Disease'])\n",
    "plt.title('Age vs Heart Disease')\n",
    "plt.xlabel('Heart Disease Status')\n",
    "plt.ylabel('Age')\n",
    "plt.show()"
   ]
  },
  {
   "cell_type": "code",
   "execution_count": 16,
   "id": "0837c0a5",
   "metadata": {},
   "outputs": [],
   "source": [
    "scalar = MinMaxScaler()"
   ]
  },
  {
   "cell_type": "code",
   "execution_count": 17,
   "id": "eafe3e8d",
   "metadata": {},
   "outputs": [],
   "source": [
    "#preprocessing the data\n",
    "data[['MaxHR', 'Cholesterol', 'Age', 'RestingBP']] = scalar.fit_transform(data[['MaxHR', 'Cholesterol', 'Age', 'RestingBP']])"
   ]
  },
  {
   "cell_type": "code",
   "execution_count": 18,
   "id": "594aa66f",
   "metadata": {},
   "outputs": [],
   "source": [
    "#Defining the outputs and inputs\n",
    "X = data.iloc[:, :-1]\n",
    "y = data.iloc[:, -1]"
   ]
  },
  {
   "cell_type": "code",
   "execution_count": 19,
   "id": "d82d2311",
   "metadata": {},
   "outputs": [],
   "source": [
    "#Setting the train and test datasets\n",
    "X_train, X_test, y_train, y_test = train_test_split(X,y, test_size= .2)"
   ]
  },
  {
   "cell_type": "code",
   "execution_count": 20,
   "id": "8fdd6742",
   "metadata": {},
   "outputs": [
    {
     "name": "stdout",
     "output_type": "stream",
     "text": [
      "Training accuracy:  85.738\n",
      "Testing accuracy:  82.667\n"
     ]
    }
   ],
   "source": [
    "#Logistic regression model\n",
    "logreg = LogisticRegression()\n",
    "logreg.fit(X_train, y_train)\n",
    "#Accuracy of the model\n",
    "acc_log = round(logreg.score(X_train, y_train) * 100, 3)\n",
    "log = round(logreg.score(X_test, y_test) * 100, 3)\n",
    "print(\"Training accuracy: \", acc_log)\n",
    "print(\"Testing accuracy: \", log)"
   ]
  },
  {
   "cell_type": "code",
   "execution_count": 21,
   "id": "094d0bb2",
   "metadata": {},
   "outputs": [
    {
     "name": "stdout",
     "output_type": "stream",
     "text": [
      "Training accuracy:  98.322\n",
      "Testing accuracy:  85.333\n"
     ]
    }
   ],
   "source": [
    "#Random forest classifier model\n",
    "RandomForestClassifier = RandomForestClassifier(n_estimators=5)\n",
    "RandomForestClassifier.fit(X_train, y_train)\n",
    "acc_random_forest = round(RandomForestClassifier.score(X_train, y_train) * 100, 3) \n",
    "#Accuracy of the model\n",
    "random_forest = round(RandomForestClassifier.score(X_test, y_test) * 100, 3) \n",
    "print(\"Training accuracy: \", acc_random_forest)\n",
    "print(\"Testing accuracy: \", random_forest)"
   ]
  },
  {
   "cell_type": "code",
   "execution_count": 22,
   "id": "e30fa194",
   "metadata": {},
   "outputs": [
    {
     "name": "stdout",
     "output_type": "stream",
     "text": [
      "Training accuracy:  87.248\n",
      "Testing accuracy:  84.0\n"
     ]
    }
   ],
   "source": [
    "#Support vector classifier\n",
    "SVC = SVC(kernel= 'linear', C= 1)\n",
    "SVC.fit(X_train, y_train)\n",
    "acc_svc = round(SVC.score(X_train, y_train) * 100, 3)\n",
    "#Accuracy of the model\n",
    "svc = round(SVC.score(X_test, y_test) * 100, 3)\n",
    "print(\"Training accuracy: \", acc_svc)\n",
    "print(\"Testing accuracy: \", svc)"
   ]
  },
  {
   "cell_type": "code",
   "execution_count": 23,
   "id": "8d59b548",
   "metadata": {},
   "outputs": [
    {
     "name": "stdout",
     "output_type": "stream",
     "text": [
      "Specify the age of the individual=> 75\n",
      "Specify the gender of the individual. If they are male, write 1. If they are female, write 0. => 1\n",
      "Specify the type of chest pain experienced by the individual. For ASY, write 0. For ATA, write 1. For NAP, write 2. For TA, write 3. => -500\n",
      "The value must be between 0 and 3\n",
      "Specify the type of chest pain experienced by the individual. For ASY, write 0. For ATA, write 1. For NAP, write 2. For TA, write 3. => 0\n",
      "Specify the resting blood pressure of the individual=> 130\n",
      "Specify the cholesterol level of the individual=> 200\n",
      "Is the fasting blood sugar of the individual above 120mg/dL? If yes, write 1. If no, write 0. => 1\n",
      "Specify the resting electrocardiogram of the individual. 0 is LVH, 1 is Normal, 2 is ST => 0\n",
      "Specify the maximum heart rate of the individual=> 100\n",
      "Does the individual have exercise-induced angina? If yes, write 1. If no, write 0. => 1\n",
      "Specify the ST slope. 0 is Down, 1 is Flat, 2 is Up => 0\n"
     ]
    }
   ],
   "source": [
    "# Age input\n",
    "while True:\n",
    "    try:\n",
    "        input_age = int(input(\"Specify the age of the individual=> \"))\n",
    "        if input_age < 28:\n",
    "            print(\"This age is too low. Select a higher age\")\n",
    "        elif input_age > 77:\n",
    "            print(\"This age is too high. Select a lower age\")\n",
    "        else:\n",
    "            break  # Break the loop if input is valid\n",
    "    except ValueError:\n",
    "        print(\"The age must be a positive number\")\n",
    "\n",
    "# Sex input\n",
    "while True:\n",
    "    try:\n",
    "        input_sex = int(input(\"Specify the gender of the individual. If they are male, write 1. If they are female, write 0. => \"))\n",
    "        if input_sex not in (0, 1):\n",
    "            print(\"The value must be 0 or 1\")\n",
    "        else:\n",
    "            break  # Break the loop if input is valid\n",
    "    except ValueError:\n",
    "        print(\"The sex must be 0 or 1\")\n",
    "\n",
    "# Chest pain type input\n",
    "while True:\n",
    "    try:\n",
    "        input_chest_pain_type = int(input(\"Specify the type of chest pain experienced by the individual. For ASY, write 0. For ATA, write 1. For NAP, write 2. For TA, write 3. => \"))\n",
    "        if input_chest_pain_type not in (0, 1, 2, 3):\n",
    "            print(\"The value must be between 0 and 3\")\n",
    "        else:\n",
    "            break  # Break the loop if input is valid\n",
    "    except ValueError:\n",
    "        print(\"The chest pain type must be between 0 and 3\")\n",
    "\n",
    "# Resting blood pressure input\n",
    "while True:\n",
    "    try:\n",
    "        input_resting_blood_pressure = int(input(\"Specify the resting blood pressure of the individual=> \"))\n",
    "        if input_resting_blood_pressure < 98:\n",
    "            print(\"The value given is too low\")\n",
    "        elif input_resting_blood_pressure > 200:\n",
    "            print(\"The value given is too high\")\n",
    "        else:\n",
    "            break  # Break the loop if input is valid\n",
    "    except ValueError:\n",
    "        print(\"The resting blood pressure must be a positive integer\")\n",
    "\n",
    "# Cholesterol level input\n",
    "while True:\n",
    "    try:\n",
    "        input_cholesterol = int(input(\"Specify the cholesterol level of the individual=> \"))\n",
    "        if input_cholesterol < 92:\n",
    "            print(\"The cholesterol value is too low\")\n",
    "        elif input_cholesterol > 603:\n",
    "            print(\"The cholesterol value is too high\")\n",
    "        else:\n",
    "            break  # Break the loop if input is valid\n",
    "    except ValueError:\n",
    "        print(\"The cholesterol level must be a positive integer\")\n",
    "        \n",
    "# Fasting Blood Sugar input\n",
    "while True:\n",
    "    try:\n",
    "        input_fastingBS = int(input(\"Is the fasting blood sugar of the individual above 120mg/dL? If yes, write 1. If no, write 0. => \"))\n",
    "        if input_fastingBS not in (0, 1):\n",
    "            print(\"The value must be 0 or 1\")\n",
    "        else:\n",
    "            break  # Break the loop if input is valid\n",
    "    except ValueError:\n",
    "        print(\"The value must be 0 or 1\")\n",
    "\n",
    "# Resting ECG input\n",
    "while True:\n",
    "    try:\n",
    "        input_restingECG = int(input(\"Specify the resting electrocardiogram of the individual. 0 is LVH, 1 is Normal, 2 is ST => \"))\n",
    "        if input_restingECG not in (0, 1, 2):\n",
    "            print(\"The value must be 0, 1, or 2\")\n",
    "        else:\n",
    "            break  # Break the loop if input is valid\n",
    "    except ValueError:\n",
    "        print(\"The value must be 0, 1, or 2\")\n",
    "\n",
    "# Maximum Heart Rate input\n",
    "while True:\n",
    "    try:\n",
    "        input_maxHR = int(input(\"Specify the maximum heart rate of the individual=> \"))\n",
    "        if input_maxHR < 69:\n",
    "            print(\"The value given is too low\")\n",
    "        elif input_maxHR > 202:\n",
    "            print(\"The value given is too high\")\n",
    "        else:\n",
    "            break  # Break the loop if input is valid\n",
    "    except ValueError:\n",
    "        print(\"The value must be a positive integer\")\n",
    "\n",
    "# Exercise-Induced Angina input\n",
    "while True:\n",
    "    try:\n",
    "        input_exercise_angina = int(input(\"Does the individual have exercise-induced angina? If yes, write 1. If no, write 0. => \"))\n",
    "        if input_exercise_angina not in (0, 1):\n",
    "            print(\"The value must be 0 or 1\")\n",
    "        else:\n",
    "            break  # Break the loop if input is valid\n",
    "    except ValueError:\n",
    "        print(\"The value must be 0 or 1\")\n",
    "\n",
    "# ST Slope input\n",
    "while True:\n",
    "    try:\n",
    "        input_ST_slope = int(input(\"Specify the ST slope. 0 is Down, 1 is Flat, 2 is Up => \"))\n",
    "        if input_ST_slope not in (0, 1, 2):\n",
    "            print(\"The value must be 0, 1, or 2\")\n",
    "        else:\n",
    "            break  # Break the loop if input is valid\n",
    "    except ValueError:\n",
    "        print(\"The value must be 0, 1, or 2\")\n"
   ]
  },
  {
   "cell_type": "code",
   "execution_count": 26,
   "id": "c6d93ce0",
   "metadata": {},
   "outputs": [
    {
     "name": "stdout",
     "output_type": "stream",
     "text": [
      "Likelihood of heart disease: Moderate\n",
      "1. Consult a healthcare professional to assess your specific risk factors, overall health, and develop a personalized plan.\n",
      "2. Your healthcare provider will evaluate your risk factors, which may include family history, age, cholesterol levels, blood pressure, smoking habits, etc.\n",
      " 3. Preventive Measures: Consider getting vaccinated against diseases like influenza and pneumonia, as these can have a significant impact on individuals with heart disease.\n"
     ]
    }
   ],
   "source": [
    "#Associating the custom input values with the X value of the model\n",
    "data=pd.DataFrame({\n",
    "    \"Age\": [input_age],\n",
    "    \"Sex\": [input_sex],\n",
    "    \"ChestPainType\": [input_chest_pain_type],\n",
    "    \"RestingBP\": [input_resting_blood_pressure],\n",
    "    \"Cholesterol\": [input_cholesterol],\n",
    "    \"FastingBS\": [input_fastingBS],\n",
    "    \"RestingECG\": [input_restingECG],\n",
    "    \"MaxHR\": [input_maxHR],\n",
    "    \"ExerciseAngina\": [input_exercise_angina],\n",
    "    \"ST_Slope\": [input_ST_slope]\n",
    " })\n",
    "\n",
    "#Using the Random forest classifier model to predict the probability of heart disease\n",
    "predicted_prob = RandomForestClassifier.predict_proba(data)[0, 1]\n",
    "#Setting thresholds to categorise the probabilities into likely, unlikely and moderate\n",
    "low_threshold = 0.3\n",
    "high_threshold = 0.7\n",
    "#Providing healthcare advice to patients alongside the diagnosis\n",
    "if predicted_prob >= high_threshold:\n",
    "    print(\"Likelihood of heart disease: High\")\n",
    "    print(\"1. Medical Consultation\\n2. Make healthy lifestyle changes such as diet modification, regular exercise, quit smoking and alcohol.\\n3. Schedule regular medical check-ups as recommended by the healthcare provider to monitor condition and adjust treatment plan if necessary.\\n4. To stay mentally healthy during these difficult times, seek emotional support from friends, family or others. \")\n",
    "elif predicted_prob >= low_threshold:\n",
    "    print(\"Likelihood of heart disease: Moderate\")\n",
    "    print(\"1. Consult a healthcare professional to assess your specific risk factors, overall health, and develop a personalized plan.\\n2. Your healthcare provider will evaluate your risk factors, which may include family history, age, cholesterol levels, blood pressure, smoking habits, etc.\\n 3. Preventive Measures: Consider getting vaccinated against diseases like influenza and pneumonia, as these can have a significant impact on individuals with heart disease.\")\n",
    "else:\n",
    "    print(\"Likelihood of heart disease: Low\")\n",
    "    print(\"1. Even if the risk is low, schedule regular check-ups with your healthcare provider as the model is not fully accurate. This allows for early detection of any potential risk factors.\\n2. Continue to educate yourself about heart health and stay aware of any family history or genetic predispositions that could increase your risk in the future.\\n3. Maintain an active lifestyle and avoid prolonged periods of sitting or inactivity. Even if you have a low risk, regular physical activity benefits overall health.\")"
   ]
  },
  {
   "cell_type": "code",
   "execution_count": 25,
   "id": "c08fc1cd",
   "metadata": {},
   "outputs": [],
   "source": [
    "# Dataset - https://www.kaggle.com/datasets/fedesoriano/heart-failure-prediction\n",
    "# Youtube video - https://www.youtube.com/watch?v=_uQrJ0TkZlc (Used mainly for basic python)"
   ]
  },
  {
   "cell_type": "code",
   "execution_count": null,
   "id": "9baf5aed",
   "metadata": {},
   "outputs": [],
   "source": []
  }
 ],
 "metadata": {
  "interpreter": {
   "hash": "aee8b7b246df8f9039afb4144a1f6fd8d2ca17a180786b69acc140d282b71a49"
  },
  "kernelspec": {
   "display_name": "Python 3.10.1 64-bit",
   "language": "python",
   "name": "python3101jvsc74a57bd0aee8b7b246df8f9039afb4144a1f6fd8d2ca17a180786b69acc140d282b71a49"
  },
  "language_info": {
   "codemirror_mode": {
    "name": "ipython",
    "version": 3
   },
   "file_extension": ".py",
   "mimetype": "text/x-python",
   "name": "python",
   "nbconvert_exporter": "python",
   "pygments_lexer": "ipython3",
   "version": "3.10.4"
  }
 },
 "nbformat": 4,
 "nbformat_minor": 5
}
